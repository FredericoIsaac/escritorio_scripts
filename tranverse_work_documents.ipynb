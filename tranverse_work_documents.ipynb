{
 "metadata": {
  "language_info": {
   "codemirror_mode": {
    "name": "ipython",
    "version": 3
   },
   "file_extension": ".py",
   "mimetype": "text/x-python",
   "name": "python",
   "nbconvert_exporter": "python",
   "pygments_lexer": "ipython3",
   "version": 3
  },
  "orig_nbformat": 2
 },
 "nbformat": 4,
 "nbformat_minor": 2,
 "cells": [
  {
   "source": [
    "# Goal\n",
    "\n",
    "Criar um programa que vai procurar ficheiros com a denominação introduzida (input) em regex.\n",
    "Vai procurar em todas os ficheiro do directorio onde esta.\n",
    "Quando encontrar um ficheiro que corresponde ao regex introduzido vai copiar o ficheiro para a pasta \"saft_09_2020\"\n",
    "\n",
    "Passos:\n",
    "\n",
    "1. Criar a denominação de procura para os saft's (regex)\n",
    "2. Criar uma função que percorra o directorio e sub-directorios\n",
    "    * Criar a procura dos seguintes directorios:\n",
    "        * \"3 - CONTABILIDADE\" (retirar espaços e casesSensitive)\n",
    "        * \"3.04 - VENDAS - COMISSÕES\"\n",
    "        * \"3.04.02 - SAFT 20214\" (com regex retirar o 20214)\n",
    "        * \"2020\"\n",
    "        * \"09-2020\"\n",
    "3. Dentro do directorio final, copiar todos os ficheiros que nao tenham como endpoint \"(.xml)\""
   ],
   "cell_type": "markdown",
   "metadata": {}
  },
  {
   "source": [
    "# Copying Files and Folders\n",
    "\n",
    "Calling shutil.copy(source, destination) will copy the file at the path source to the folder at the path destination. "
   ],
   "cell_type": "markdown",
   "metadata": {}
  },
  {
   "cell_type": "code",
   "execution_count": null,
   "metadata": {},
   "outputs": [],
   "source": [
    "import shutil, os\n",
    "from pathlib import Path\n",
    "\n",
    "p = Path.home()\n",
    "shutil.copy(p / 'spam.txt', p / 'some_folder')\n",
    "# 'C:\\\\Users\\\\Al\\\\some_folder\\\\spam.txt'\n",
    "shutil.copy(p / 'eggs.txt', p / 'some_folder/eggs2.txt')\n",
    "# WindowsPath('C:/Users/Al/some_folder/eggs2.txt')"
   ]
  }
 ]
}